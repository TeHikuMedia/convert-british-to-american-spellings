{
 "cells": [
  {
   "cell_type": "code",
   "execution_count": null,
   "id": "cc82607a-3de8-4f15-a347-751308f8c673",
   "metadata": {},
   "outputs": [],
   "source": [
    "import json\n",
    "import re\n",
    "import glob\n",
    "from tqdm import tqdm\n",
    "\n",
    "# Extract and filter spelling pairs from PHP files\n",
    "patterns = {\n",
    "    '-our vs. -or': (r'\\b(\\w+)our\\b', r'\\b(\\w+)or\\b'),\n",
    "    '-re vs. -er': (r'\\b(\\w+)re\\b', r'\\b(\\w+)er\\b'),\n",
    "    '-ise vs. -ize': (r'\\b(\\w+)ise\\b', r'\\b(\\w+)ize\\b'),\n",
    "    '-ogue vs. -og': (r'\\b(\\w+)ogue\\b', r'\\b(\\w+)og\\b'),\n",
    "    '-ll- vs. -l-': (r'\\b(\\w+)ll(\\w+)\\b', r'\\b(\\w+)l(\\w+)\\b')\n",
    "}\n",
    "\n",
    "pairs = []\n",
    "for file in glob.glob('./Words/AmericanBritish/*.php'):\n",
    "    with open(file, 'r') as f:\n",
    "        all_pairs = re.findall(r\"['\\\"](\\w+)['\\\"]\\s*=>\\s*['\\\"](\\w+)['\\\"]\", f.read())\n",
    "        \n",
    "    # Filter pairs by patterns\n",
    "    for british_pat, american_pat in patterns.values():\n",
    "        pairs.extend([pair for pair in all_pairs \n",
    "                     if re.match(british_pat, pair[0]) and re.match(american_pat, pair[1])])\n",
    "\n",
    "# Create regex mapping\n",
    "mapping = {re.compile(r'\\b' + re.escape(british) + r'\\b'): american \n",
    "           for british, american in pairs}\n",
    "\n",
    "def normalize_text(text):\n",
    "    for regex, american in mapping.items():\n",
    "        text = regex.sub(american, text)\n",
    "    return text\n",
    "\n",
    "# Process JSON file\n",
    "input_file = '/home/jovyan/conformer-asr-rnnt/data/common_voice_train.json'\n",
    "output_file = 'test.json'\n",
    "\n",
    "with open(input_file, 'r') as infile, open(output_file, 'w') as outfile:\n",
    "    for line in tqdm(infile, desc=\"Normalizing\"):\n",
    "        obj = json.loads(line)\n",
    "        if 'text' in obj:\n",
    "            obj['text'] = normalize_text(obj['text'])\n",
    "        outfile.write(json.dumps(obj, ensure_ascii=False) + '\\n')"
   ]
  },
  {
   "cell_type": "code",
   "execution_count": null,
   "id": "950eea70-ffce-431c-8dfb-232038d724b8",
   "metadata": {},
   "outputs": [],
   "source": []
  }
 ],
 "metadata": {
  "kernelspec": {
   "display_name": "Python 3 (ipykernel)",
   "language": "python",
   "name": "python3"
  },
  "language_info": {
   "codemirror_mode": {
    "name": "ipython",
    "version": 3
   },
   "file_extension": ".py",
   "mimetype": "text/x-python",
   "name": "python",
   "nbconvert_exporter": "python",
   "pygments_lexer": "ipython3",
   "version": "3.10.6"
  }
 },
 "nbformat": 4,
 "nbformat_minor": 5
}
